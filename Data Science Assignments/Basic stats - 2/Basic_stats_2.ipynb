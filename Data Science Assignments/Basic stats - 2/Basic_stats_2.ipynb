{
  "metadata": {
    "kernelspec": {
      "language": "python",
      "display_name": "Python 3",
      "name": "python3"
    },
    "language_info": {
      "name": "python",
      "version": "3.10.13",
      "mimetype": "text/x-python",
      "codemirror_mode": {
        "name": "ipython",
        "version": 3
      },
      "pygments_lexer": "ipython3",
      "nbconvert_exporter": "python",
      "file_extension": ".py"
    },
    "kaggle": {
      "accelerator": "none",
      "dataSources": [],
      "dockerImageVersionId": 30746,
      "isInternetEnabled": true,
      "language": "python",
      "sourceType": "notebook",
      "isGpuEnabled": false
    },
    "colab": {
      "provenance": []
    }
  },
  "nbformat_minor": 0,
  "nbformat": 4,
  "cells": [
    {
      "cell_type": "code",
      "source": [
        "data=[1.13, 1.55, 1.43, 0.92, 1.25, 1.36, 1.32, 0.85, 1.07, 1.48, 1.20, 1.33, 1.18, 1.22, 1.29] #Store the data in a variable named 'data'.\n",
        "print(data) #Displaying the stored data."
      ],
      "metadata": {
        "_uuid": "8f2839f25d086af736a60e9eeb907d3b93b6e0e5",
        "_cell_guid": "b1076dfc-b9ad-4769-8c92-a6c4dae69d19",
        "execution": {
          "iopub.status.busy": "2024-07-21T14:03:03.310016Z",
          "iopub.execute_input": "2024-07-21T14:03:03.311775Z",
          "iopub.status.idle": "2024-07-21T14:03:03.369139Z",
          "shell.execute_reply.started": "2024-07-21T14:03:03.311697Z",
          "shell.execute_reply": "2024-07-21T14:03:03.368003Z"
        },
        "trusted": true,
        "id": "oVYrsGwinFPM",
        "outputId": "6bf9c5fb-b424-42e4-9f53-cbc8c0db14d4"
      },
      "execution_count": null,
      "outputs": [
        {
          "name": "stdout",
          "text": "[1.13, 1.55, 1.43, 0.92, 1.25, 1.36, 1.32, 0.85, 1.07, 1.48, 1.2, 1.33, 1.18, 1.22, 1.29]\n",
          "output_type": "stream"
        }
      ]
    },
    {
      "cell_type": "code",
      "source": [
        "def Avg(x): #Creating a function to calculate the mean.\n",
        "    return sum(x)/len(x) #Calculating the mean of the data.\n",
        "\n",
        "def std_dev(x): #Creating a function to calculate the standard deviation.\n",
        "    return (sum((i-Avg(x))**2 for i in x)/(len(x)-1))**0.5 #Calculating the standard deviation of the data\n",
        "\n",
        "mean = round(Avg(data),3) #Round the mean value to 3 decimal places.\n",
        "stan_dev = round(std_dev(data),3) #Round the standard deviation value to 3 decimal places.\n",
        "print(\"Mean: \",mean) #Display the mean value.\n",
        "print(\"Standard Deviation: \",stan_dev) #Display the standard deviation value."
      ],
      "metadata": {
        "execution": {
          "iopub.status.busy": "2024-07-21T14:03:03.371102Z",
          "iopub.execute_input": "2024-07-21T14:03:03.371738Z",
          "iopub.status.idle": "2024-07-21T14:03:03.380729Z",
          "shell.execute_reply.started": "2024-07-21T14:03:03.371707Z",
          "shell.execute_reply": "2024-07-21T14:03:03.379297Z"
        },
        "trusted": true,
        "id": "pugpWlUBnFPS",
        "outputId": "a77e46a9-936f-4d09-ff88-ed8a8a4fe971"
      },
      "execution_count": null,
      "outputs": [
        {
          "name": "stdout",
          "text": "Mean:  1.239\nStandard Deviation:  0.193\n",
          "output_type": "stream"
        }
      ]
    },
    {
      "cell_type": "markdown",
      "source": [
        "**a. Build 99% Confidence Interval Using Sample Standard Deviation**\n",
        "\n",
        "Assuming the sample is representative of the population, construct a 99% confidence interval for the mean number of characters printed before the print-head fails using the sample standard deviation. Explain the steps you take and the rationale behind using the t-distribution for this task.\n"
      ],
      "metadata": {
        "id": "HBfk2m4unFPU"
      }
    },
    {
      "cell_type": "code",
      "source": [
        "from scipy.stats import t\n",
        "t = round(t.ppf(0.99, df=(len(data)-1)),3) # Calculate the t-value for a 99% confidence interval.\n",
        "t"
      ],
      "metadata": {
        "execution": {
          "iopub.status.busy": "2024-07-21T14:03:03.381973Z",
          "iopub.execute_input": "2024-07-21T14:03:03.382328Z",
          "iopub.status.idle": "2024-07-21T14:03:04.325400Z",
          "shell.execute_reply.started": "2024-07-21T14:03:03.382298Z",
          "shell.execute_reply": "2024-07-21T14:03:04.324247Z"
        },
        "trusted": true,
        "id": "Iw9KjlLFnFPV",
        "outputId": "ca476b1b-1904-4536-aa20-274cfe582c0e"
      },
      "execution_count": null,
      "outputs": [
        {
          "execution_count": 3,
          "output_type": "execute_result",
          "data": {
            "text/plain": "2.624"
          },
          "metadata": {}
        }
      ]
    },
    {
      "cell_type": "code",
      "source": [
        "Marginal_Error = t*(stan_dev/(len(data)**0.5)) #Claculating the marginal error\n",
        "Marginal_Error = round(Marginal_Error,3) #make marginal error upto 3 decimal value\n",
        "print(\"Marginal Error: \",Marginal_Error) #displaying the marginal error"
      ],
      "metadata": {
        "execution": {
          "iopub.status.busy": "2024-07-21T14:03:04.327994Z",
          "iopub.execute_input": "2024-07-21T14:03:04.329054Z",
          "iopub.status.idle": "2024-07-21T14:03:04.336644Z",
          "shell.execute_reply.started": "2024-07-21T14:03:04.329007Z",
          "shell.execute_reply": "2024-07-21T14:03:04.335300Z"
        },
        "trusted": true,
        "id": "TxA_9I4PnFPW",
        "outputId": "fe1919c3-d866-4ff1-b1e7-602dc45d7834"
      },
      "execution_count": null,
      "outputs": [
        {
          "name": "stdout",
          "text": "Marginal Error:  0.131\n",
          "output_type": "stream"
        }
      ]
    },
    {
      "cell_type": "code",
      "source": [
        "print(\"Lower Limit: \",mean-Marginal_Error) #Display the lower limit of the confidence interval.\n",
        "print(\"Upper Limit: \",mean+Marginal_Error) #Display the upper limit of the confidence interval."
      ],
      "metadata": {
        "execution": {
          "iopub.status.busy": "2024-07-21T14:03:04.340972Z",
          "iopub.execute_input": "2024-07-21T14:03:04.341749Z",
          "iopub.status.idle": "2024-07-21T14:03:04.355580Z",
          "shell.execute_reply.started": "2024-07-21T14:03:04.341706Z",
          "shell.execute_reply": "2024-07-21T14:03:04.354204Z"
        },
        "trusted": true,
        "id": "RguXu_kxnFPX",
        "outputId": "33034876-dabf-4096-ac16-24d5a57eeaca"
      },
      "execution_count": null,
      "outputs": [
        {
          "name": "stdout",
          "text": "Lower Limit:  1.108\nUpper Limit:  1.37\n",
          "output_type": "stream"
        }
      ]
    },
    {
      "cell_type": "code",
      "source": [
        "import numpy as np #Import the NumPy library.\n",
        "import scipy.stats as st #Import the 'stats' module from 'scipy'.\n",
        "\n",
        "t_Boundaries = list(st.t.interval(0.99, len(data)-1, loc=np.mean(data), scale=st.sem(data))) #Calculating the confidence interval using built-in methods\n",
        "print(\"Lower Limit: \",round(t_Boundaries[0],3)) #Displaying lower limit of data upto 3 decimal\n",
        "print(\"Upper Limit: \",round(t_Boundaries[1],3)) #Displaying upper limit of data upto 3 decimal"
      ],
      "metadata": {
        "execution": {
          "iopub.status.busy": "2024-07-21T14:03:04.357841Z",
          "iopub.execute_input": "2024-07-21T14:03:04.358404Z",
          "iopub.status.idle": "2024-07-21T14:03:04.375091Z",
          "shell.execute_reply.started": "2024-07-21T14:03:04.358358Z",
          "shell.execute_reply": "2024-07-21T14:03:04.373805Z"
        },
        "trusted": true,
        "id": "uzi6gl1jnFPX",
        "outputId": "8407f778-78fa-4164-e52d-d8c68807f3d0"
      },
      "execution_count": null,
      "outputs": [
        {
          "name": "stdout",
          "text": "Lower Limit:  1.09\nUpper Limit:  1.387\n",
          "output_type": "stream"
        }
      ]
    },
    {
      "cell_type": "markdown",
      "source": [
        "From the above outputs, I consider that the results obtained using built-in methods and manually calculated values are similar or almost equal.\n",
        "\n",
        "**Here’s why I used the t-distribution:**\n",
        "\n",
        "* The question does not mention the standard deviation of the population.\n",
        "* When the population standard deviation is not mentioned, we use the t-distribution; otherwise, we use the z-distribution."
      ],
      "metadata": {
        "id": "gDrJhJeYqQfd"
      }
    },
    {
      "cell_type": "markdown",
      "source": [
        "**b. Build 99% Confidence Interval Using Known Population Standard Deviation**\n",
        "\n",
        "If it were known that the population standard deviation is 0.2 million characters, construct a 99% confidence interval for the mean number of characters printed before failure.\n"
      ],
      "metadata": {
        "id": "l7uDMh1KnFPY"
      }
    },
    {
      "cell_type": "code",
      "source": [
        "from scipy.stats import norm\n",
        "z = round(norm.ppf(0.995),2) # Calculate the z value for a 99% confidence interval\n",
        "z"
      ],
      "metadata": {
        "execution": {
          "iopub.status.busy": "2024-07-21T14:03:04.376760Z",
          "iopub.execute_input": "2024-07-21T14:03:04.377879Z",
          "iopub.status.idle": "2024-07-21T14:03:04.396535Z",
          "shell.execute_reply.started": "2024-07-21T14:03:04.377839Z",
          "shell.execute_reply": "2024-07-21T14:03:04.395196Z"
        },
        "trusted": true,
        "id": "dDoNJKBxnFPZ",
        "outputId": "9786297a-d065-4109-a871-898555c8b2d7"
      },
      "execution_count": null,
      "outputs": [
        {
          "execution_count": 7,
          "output_type": "execute_result",
          "data": {
            "text/plain": "2.58"
          },
          "metadata": {}
        }
      ]
    },
    {
      "cell_type": "code",
      "source": [
        "Marginal_Error = z*(0.2/(len(data)**0.5)) #Calculating the marginal error with help of z(critical value)\n",
        "Marginal_Error = round(Marginal_Error,3) #Make the marginal error into 3 decimal\n",
        "print(\"Marginal Error: \",Marginal_Error) #Displaying marginal error"
      ],
      "metadata": {
        "execution": {
          "iopub.status.busy": "2024-07-21T14:03:04.398501Z",
          "iopub.execute_input": "2024-07-21T14:03:04.399414Z",
          "iopub.status.idle": "2024-07-21T14:03:04.410162Z",
          "shell.execute_reply.started": "2024-07-21T14:03:04.399375Z",
          "shell.execute_reply": "2024-07-21T14:03:04.407594Z"
        },
        "trusted": true,
        "id": "WMSV-j9AnFPZ",
        "outputId": "94a1ec48-ae6b-4521-d7d6-41510a4758d8"
      },
      "execution_count": null,
      "outputs": [
        {
          "name": "stdout",
          "text": "Marginal Error:  0.133\n",
          "output_type": "stream"
        }
      ]
    },
    {
      "cell_type": "code",
      "source": [
        "print(\"Lower Limit: \",round(mean-Marginal_Error,3)) #Displaying lower limit of data upto 3 decimal\n",
        "print(\"Upper Limit: \",round(mean+Marginal_Error,3)) #Displaying upper limit of data upto 3 decimal"
      ],
      "metadata": {
        "execution": {
          "iopub.status.busy": "2024-07-21T14:03:04.411774Z",
          "iopub.execute_input": "2024-07-21T14:03:04.412171Z",
          "iopub.status.idle": "2024-07-21T14:03:04.430791Z",
          "shell.execute_reply.started": "2024-07-21T14:03:04.412137Z",
          "shell.execute_reply": "2024-07-21T14:03:04.429389Z"
        },
        "trusted": true,
        "id": "TvR70Gh8nFPa",
        "outputId": "7f1a5245-2eba-4f44-f608-b230fee6d3aa"
      },
      "execution_count": null,
      "outputs": [
        {
          "name": "stdout",
          "text": "Lower Limit:  1.106\nUpper Limit:  1.372\n",
          "output_type": "stream"
        }
      ]
    },
    {
      "cell_type": "code",
      "source": [
        "z_Boundaries = st.norm.interval(0.99, loc=np.mean(data), scale=st.sem(data)) #Calculating the confidence interval using built-in methods\n",
        "print(\"Lower Limit: \",round(z_Boundaries[0],3)) #Displaying lower limit of data upto 3 decimal\n",
        "print(\"Upper Limit: \",round(z_Boundaries[1],3)) #Displaying upper limit of data upto 3 decimal"
      ],
      "metadata": {
        "execution": {
          "iopub.status.busy": "2024-07-21T14:03:04.432733Z",
          "iopub.execute_input": "2024-07-21T14:03:04.433155Z",
          "iopub.status.idle": "2024-07-21T14:03:04.446929Z",
          "shell.execute_reply.started": "2024-07-21T14:03:04.433119Z",
          "shell.execute_reply": "2024-07-21T14:03:04.445358Z"
        },
        "trusted": true,
        "id": "bk2y2g9fnFPa",
        "outputId": "1e96f010-35a9-46cc-c9df-723ed15ee61c"
      },
      "execution_count": null,
      "outputs": [
        {
          "name": "stdout",
          "text": "Lower Limit:  1.11\nUpper Limit:  1.367\n",
          "output_type": "stream"
        }
      ]
    },
    {
      "cell_type": "markdown",
      "source": [
        "From the above outputs, I conclude that the results obtained using built-in methods and those calculated manually are similar or nearly equal."
      ],
      "metadata": {
        "id": "CSnc_B9kqpom"
      }
    }
  ]
}