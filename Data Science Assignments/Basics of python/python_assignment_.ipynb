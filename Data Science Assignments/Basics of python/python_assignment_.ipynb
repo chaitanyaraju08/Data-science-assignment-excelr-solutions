{
  "metadata": {
    "kernelspec": {
      "language": "python",
      "display_name": "Python 3",
      "name": "python3"
    },
    "language_info": {
      "name": "python",
      "version": "3.10.13",
      "mimetype": "text/x-python",
      "codemirror_mode": {
        "name": "ipython",
        "version": 3
      },
      "pygments_lexer": "ipython3",
      "nbconvert_exporter": "python",
      "file_extension": ".py"
    },
    "kaggle": {
      "accelerator": "none",
      "dataSources": [],
      "dockerImageVersionId": 30732,
      "isInternetEnabled": true,
      "language": "python",
      "sourceType": "notebook",
      "isGpuEnabled": false
    },
    "colab": {
      "provenance": []
    }
  },
  "nbformat_minor": 0,
  "nbformat": 4,
  "cells": [
    {
      "cell_type": "markdown",
      "source": [
        "# **CHECK GIVEN NUMBER IS PRIME OR NOT:**\n",
        "Write a Python program that checks whether a given number is prime or not. A prime number is a natural number greater than 1 that has no positive divisors other than 1 and itself."
      ],
      "metadata": {
        "id": "EJ3Y2TPkAlZq"
      }
    },
    {
      "cell_type": "code",
      "source": [
        "Num = int(input(\"Enter Number:\")) #take number as user input\n",
        "if Num > 1: #if the number greater than 1 following loop will excecute\n",
        "    for i in range(2,Num//2+1):#take range from 2 to off of the given number\n",
        "        if Num%i==0:#check the number is divisible by any number or not\n",
        "            print(Num,\"is not a prime number\")\n",
        "            break#if the condition satisfy then the loop will close\n",
        "        else:\n",
        "            print(Num,\"is a prime number\")#else this condition will execute\n",
        "            break\n",
        "else:\n",
        "    print(Num,\"is not a prime number\")#if given number is less than 1 then it will this statement"
      ],
      "metadata": {
        "execution": {
          "iopub.status.busy": "2024-06-16T13:33:56.259773Z",
          "iopub.execute_input": "2024-06-16T13:33:56.260183Z",
          "iopub.status.idle": "2024-06-16T13:33:58.597478Z",
          "shell.execute_reply.started": "2024-06-16T13:33:56.260150Z",
          "shell.execute_reply": "2024-06-16T13:33:58.596366Z"
        },
        "trusted": true,
        "id": "_nWE8tE1AlZu",
        "outputId": "c8bf8aa4-8d75-4542-f15e-f45e1ea0297c"
      },
      "execution_count": null,
      "outputs": [
        {
          "output_type": "stream",
          "name": "stdin",
          "text": "Enter Number: 7\n"
        },
        {
          "name": "stdout",
          "text": "7 is a prime number\n",
          "output_type": "stream"
        }
      ]
    },
    {
      "cell_type": "markdown",
      "source": [
        "# **Product of Random Numbers:**\n",
        "Develop a Python program that generates two random numbers and asks the user to enter the product of these numbers. The program should then check if the user's answer is correct and display an appropriate message."
      ],
      "metadata": {
        "id": "tUVc2Fb-AlZy"
      }
    },
    {
      "cell_type": "code",
      "source": [
        "import random#importing random method for generating random numbers\n",
        "Num1=random.randrange(10)#generating 2 random numbers\n",
        "Num2=random.randrange(10)\n",
        "res=Num1*Num2#product of two random numbers\n",
        "res1 = int(input(\"Enter Number:\"))#take the user input\n",
        "if res==res1:#check the user input match with product of 2 random numbers\n",
        "    print(\"Congratulations!You are win\")\n",
        "else:\n",
        "    print(\"Sorry!you are lose\")"
      ],
      "metadata": {
        "execution": {
          "iopub.status.busy": "2024-06-16T14:31:13.702986Z",
          "iopub.execute_input": "2024-06-16T14:31:13.703329Z",
          "iopub.status.idle": "2024-06-16T14:31:16.530410Z",
          "shell.execute_reply.started": "2024-06-16T14:31:13.703304Z",
          "shell.execute_reply": "2024-06-16T14:31:16.529103Z"
        },
        "trusted": true,
        "id": "DPuJvgVwAlZy",
        "outputId": "b16b63c8-b5d5-4e2b-cec3-1bf32e521350"
      },
      "execution_count": null,
      "outputs": [
        {
          "output_type": "stream",
          "name": "stdin",
          "text": "Enter Number 6\n"
        },
        {
          "name": "stdout",
          "text": "Sorry!you are lose\n",
          "output_type": "stream"
        }
      ]
    },
    {
      "cell_type": "markdown",
      "source": [
        "# **Squares of Even/Odd Numbers**\n",
        "Create a Python script that prints the squares of all even or odd numbers within the range of 100 to 200. Choose either even or odd numbers and document your choice in the code."
      ],
      "metadata": {
        "id": "NDOv2Nb-AlZz"
      }
    },
    {
      "cell_type": "code",
      "source": [
        "list1=[]\n",
        "for i in range(100,201,2):#take range from 100 to 200 with the step 2 to get only even numbers\n",
        "    list1.append(i**2)#append squared number to list because when we print it directly it will generate long output\n",
        "print(list1)"
      ],
      "metadata": {
        "execution": {
          "iopub.status.busy": "2024-06-16T13:45:58.768490Z",
          "iopub.execute_input": "2024-06-16T13:45:58.769469Z",
          "iopub.status.idle": "2024-06-16T13:45:58.774734Z",
          "shell.execute_reply.started": "2024-06-16T13:45:58.769422Z",
          "shell.execute_reply": "2024-06-16T13:45:58.773774Z"
        },
        "trusted": true,
        "id": "UYFX1c9DAlZz",
        "outputId": "b2d057d6-5a87-444f-c324-65366e83a215"
      },
      "execution_count": null,
      "outputs": [
        {
          "name": "stdout",
          "text": "[10000, 10404, 10816, 11236, 11664, 12100, 12544, 12996, 13456, 13924, 14400, 14884, 15376, 15876, 16384, 16900, 17424, 17956, 18496, 19044, 19600, 20164, 20736, 21316, 21904, 22500, 23104, 23716, 24336, 24964, 25600, 26244, 26896, 27556, 28224, 28900, 29584, 30276, 30976, 31684, 32400, 33124, 33856, 34596, 35344, 36100, 36864, 37636, 38416, 39204, 40000]\n",
          "output_type": "stream"
        }
      ]
    },
    {
      "cell_type": "markdown",
      "source": [
        "# **Word Counter:**\n",
        "* write a program to count the number of words in a given text.\n",
        "* example:\n",
        "* input_text = \"This is a sample text. This text will be used to demonstrate the word counter.\"\n",
        "* Expected output:\n",
        "* 'This': 2\n",
        "* 'is': 1\n",
        "* 'a': 1\n",
        "* 'sample': 1\n",
        "* 'text.': 1\n"
      ],
      "metadata": {
        "id": "Vz-2M3NiAlZ0"
      }
    },
    {
      "cell_type": "code",
      "source": [
        "String = list(input(\"Enter Text:\").split(\" \"))#take user input as string and separate it with space and assign separated elements into list\n",
        "dict1 = {}\n",
        "for i in String:\n",
        "    dict1[i]= String.count(i)#assign each elemets and it's count to dictionary to remove duplicates\n",
        "print(dict1)"
      ],
      "metadata": {
        "execution": {
          "iopub.status.busy": "2024-06-16T14:53:32.325497Z",
          "iopub.execute_input": "2024-06-16T14:53:32.326424Z",
          "iopub.status.idle": "2024-06-16T14:53:34.413546Z",
          "shell.execute_reply.started": "2024-06-16T14:53:32.326372Z",
          "shell.execute_reply": "2024-06-16T14:53:34.412509Z"
        },
        "trusted": true,
        "id": "qGoXeF-SAlZ0",
        "outputId": "ac91d75c-81d3-4629-fc24-22e3bfaffc49"
      },
      "execution_count": null,
      "outputs": [
        {
          "output_type": "stream",
          "name": "stdin",
          "text": "Enter Text: This is a sample text. This text will be used to demonstrate the word counter.\n"
        },
        {
          "name": "stdout",
          "text": "{'This': 2, 'is': 1, 'a': 1, 'sample': 1, 'text.': 1, 'text': 1, 'will': 1, 'be': 1, 'used': 1, 'to': 1, 'demonstrate': 1, 'the': 1, 'word': 1, 'counter.': 1}\n",
          "output_type": "stream"
        }
      ]
    },
    {
      "cell_type": "markdown",
      "source": [
        "# Check for Palindrome\n",
        "Write a Python function called is_palindrome that takes a string as input and returns True if the string is a palindrome, and False otherwise. A palindrome is a word, phrase, number, or other sequence of characters that reads the same forward and backward, ignoring spaces, punctuation, and capitalization.\n",
        "Example:\n",
        "Input: \"racecar\"\n",
        "Expected Output: True\n"
      ],
      "metadata": {
        "id": "bduQbXRjAlZ0"
      }
    },
    {
      "cell_type": "code",
      "source": [
        "String = input(\"Enter String:\")\n",
        "New_String = ''.join(e for e in String if e.isalnum())#remove  spaces, punctuation and make it as new string\n",
        "if New_String.lower()==New_String.lower()[::-1]:#check the string is palindrome or not\n",
        "    print(String,\"is a palindrome\")\n",
        "else:\n",
        "    print(String,\"is not a palindrome\" )"
      ],
      "metadata": {
        "execution": {
          "iopub.status.busy": "2024-06-16T14:10:38.341847Z",
          "iopub.execute_input": "2024-06-16T14:10:38.342225Z",
          "iopub.status.idle": "2024-06-16T14:10:48.721966Z",
          "shell.execute_reply.started": "2024-06-16T14:10:38.342195Z",
          "shell.execute_reply": "2024-06-16T14:10:48.720907Z"
        },
        "trusted": true,
        "id": "iQwdzQMcAlZ1",
        "outputId": "12efe1db-be3d-4ae8-f9b5-fcc6ce522c1a"
      },
      "execution_count": null,
      "outputs": [
        {
          "output_type": "stream",
          "name": "stdin",
          "text": "Enter String: Special $#! characters   spaces 888323\n"
        },
        {
          "name": "stdout",
          "text": "Special $#! characters   spaces 888323 is not a palindrome\n",
          "output_type": "stream"
        }
      ]
    }
  ]
}